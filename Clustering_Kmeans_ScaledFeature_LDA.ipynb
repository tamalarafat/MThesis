{
 "cells": [
  {
   "cell_type": "code",
   "execution_count": 1,
   "metadata": {},
   "outputs": [],
   "source": [
    "import pandas as pd\n",
    "import numpy as np\n",
    "import matplotlib.pyplot as plt\n",
    "from sklearn.cluster import KMeans\n",
    "from sklearn.cluster import SpectralClustering\n",
    "import seaborn as sns\n",
    "from sklearn.decomposition import KernelPCA\n",
    "from scipy.stats import mode\n",
    "from sklearn.metrics import accuracy_score\n",
    "from sklearn.metrics import confusion_matrix\n",
    "from sklearn.metrics import silhouette_samples, silhouette_score\n",
    "plt.rc('font', size = 11)\n",
    "sns.set_style('darkgrid')\n",
    "sns.set_palette(sns.color_palette('Paired'))\n",
    "sns.palplot(sns.color_palette('Paired'))\n",
    "sns.set()"
   ]
  },
  {
   "cell_type": "code",
   "execution_count": 2,
   "metadata": {},
   "outputs": [],
   "source": [
    "#import pandas as pd\n",
    "dataset_read = pd.read_excel('pilot_experiment_TPM_WTonly.xlsx') #reading the dataset using pandas read_excel function\n",
    "unprocessed_dataset = dataset_read.iloc[:, 0:].T #Transpose of the raw dataset\n",
    "y = dataset_read.columns.values.tolist() #getting the label/target labels as list from the dataset \n",
    "\n",
    "y_categorized = [] \n",
    "sample_list = []\n",
    "#assigning categorical label to 0-9 (ascending order) to y_categorized as label for each sample\n",
    "for i in y:\n",
    "    if i[:-2] == 'Ox_Leaf1_T1':\n",
    "        y_categorized.append(0)\n",
    "        sample_list.append('L1T1')\n",
    "    elif i[:-2] == 'Ox_Leaf1_T2':\n",
    "        y_categorized.append(1)\n",
    "        sample_list.append('L1T2')\n",
    "    elif i[:-2] == 'Ox_Leaf1_T3':\n",
    "        y_categorized.append(2)\n",
    "        sample_list.append('L1T3')\n",
    "    elif i[:-2] == 'Ox_Leaf1_T4':\n",
    "        y_categorized.append(3)\n",
    "        sample_list.append('L1T4')\n",
    "    elif i[:-2] == 'Ox_Leaf3_T2':\n",
    "        y_categorized.append(4)\n",
    "        sample_list.append('L3T2')\n",
    "    elif i[:-2] == 'Ox_Leaf3_T3':\n",
    "        y_categorized.append(5)\n",
    "        sample_list.append('L3T3')\n",
    "    elif i[:-2] == 'Ox_Leaf3_T4':\n",
    "        y_categorized.append(6)\n",
    "        sample_list.append('L3T4')\n",
    "    elif i[:-2] == 'Ox_Leaf5_T3':\n",
    "        y_categorized.append(7)\n",
    "        sample_list.append('L5T3')\n",
    "    elif i[:-2] == 'Ox_Leaf5_T4':\n",
    "        y_categorized.append(8)\n",
    "        sample_list.append('L5T4')\n",
    "    elif i[:-2] == 'Ox_Leaf7_T4':\n",
    "        y_categorized.append(9)\n",
    "        sample_list.append('L7T4')\n",
    "\n",
    "unprocessed_dataset['y'] = y_categorized #putting the label information with the dataset, as the dataset does not contain the label\n",
    "dataset = unprocessed_dataset\n",
    "X = dataset.iloc[:, :-1].values #getting the dataset without label, where each row represents sample, each column represents featues or independent variables\n",
    "y = dataset.iloc[:, -1].values #label column from the data set\n",
    "\n",
    "#for the plotting with the labels\n",
    "#import numpy as np\n",
    "sample_arr = np.array(sample_list)\n",
    "set_sample = set(sample_list)\n",
    "set_sample = sorted(list(set_sample))"
   ]
  },
  {
   "cell_type": "code",
   "execution_count": 3,
   "metadata": {},
   "outputs": [],
   "source": [
    "from sklearn.preprocessing import StandardScaler\n",
    "sc = StandardScaler()\n",
    "sc_X_train = sc.fit_transform(X)"
   ]
  },
  {
   "cell_type": "code",
   "execution_count": null,
   "metadata": {},
   "outputs": [],
   "source": [
    "from sklearn.discriminant_analysis import LinearDiscriminantAnalysis as LDA\n",
    "\n",
    "lda = LDA()\n",
    "X_transformed = lda(sc_X_train)"
   ]
  }
 ],
 "metadata": {
  "kernelspec": {
   "display_name": "Python 3",
   "language": "python",
   "name": "python3"
  },
  "language_info": {
   "codemirror_mode": {
    "name": "ipython",
    "version": 3
   },
   "file_extension": ".py",
   "mimetype": "text/x-python",
   "name": "python",
   "nbconvert_exporter": "python",
   "pygments_lexer": "ipython3",
   "version": "3.5.5"
  }
 },
 "nbformat": 4,
 "nbformat_minor": 2
}
